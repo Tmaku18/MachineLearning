{
  "nbformat": 4,
  "nbformat_minor": 0,
  "metadata": {
    "colab": {
      "provenance": []
    },
    "kernelspec": {
      "name": "python3",
      "display_name": "Python 3"
    },
    "language_info": {
      "name": "python"
    }
  },
  "cells": [
    {
      "cell_type": "code",
      "execution_count": 3,
      "metadata": {
        "colab": {
          "base_uri": "https://localhost:8080/"
        },
        "id": "JAKXRYny49Wm",
        "outputId": "35c12b5f-5923-46ce-939d-963e816eca15"
      },
      "outputs": [
        {
          "output_type": "stream",
          "name": "stdout",
          "text": [
            "Requirement already satisfied: pgmpy in /usr/local/lib/python3.11/dist-packages (1.0.0)\n",
            "Requirement already satisfied: networkx in /usr/local/lib/python3.11/dist-packages (from pgmpy) (3.4.2)\n",
            "Requirement already satisfied: numpy in /usr/local/lib/python3.11/dist-packages (from pgmpy) (2.0.2)\n",
            "Requirement already satisfied: scipy in /usr/local/lib/python3.11/dist-packages (from pgmpy) (1.14.1)\n",
            "Requirement already satisfied: scikit-learn in /usr/local/lib/python3.11/dist-packages (from pgmpy) (1.6.1)\n",
            "Requirement already satisfied: pandas in /usr/local/lib/python3.11/dist-packages (from pgmpy) (2.2.2)\n",
            "Requirement already satisfied: torch in /usr/local/lib/python3.11/dist-packages (from pgmpy) (2.6.0+cu124)\n",
            "Requirement already satisfied: statsmodels in /usr/local/lib/python3.11/dist-packages (from pgmpy) (0.14.4)\n",
            "Requirement already satisfied: tqdm in /usr/local/lib/python3.11/dist-packages (from pgmpy) (4.67.1)\n",
            "Requirement already satisfied: joblib in /usr/local/lib/python3.11/dist-packages (from pgmpy) (1.4.2)\n",
            "Requirement already satisfied: opt-einsum in /usr/local/lib/python3.11/dist-packages (from pgmpy) (3.4.0)\n",
            "Requirement already satisfied: pyro-ppl in /usr/local/lib/python3.11/dist-packages (from pgmpy) (1.9.1)\n",
            "Requirement already satisfied: python-dateutil>=2.8.2 in /usr/local/lib/python3.11/dist-packages (from pandas->pgmpy) (2.8.2)\n",
            "Requirement already satisfied: pytz>=2020.1 in /usr/local/lib/python3.11/dist-packages (from pandas->pgmpy) (2025.2)\n",
            "Requirement already satisfied: tzdata>=2022.7 in /usr/local/lib/python3.11/dist-packages (from pandas->pgmpy) (2025.2)\n",
            "Requirement already satisfied: pyro-api>=0.1.1 in /usr/local/lib/python3.11/dist-packages (from pyro-ppl->pgmpy) (0.1.2)\n",
            "Requirement already satisfied: filelock in /usr/local/lib/python3.11/dist-packages (from torch->pgmpy) (3.18.0)\n",
            "Requirement already satisfied: typing-extensions>=4.10.0 in /usr/local/lib/python3.11/dist-packages (from torch->pgmpy) (4.13.1)\n",
            "Requirement already satisfied: jinja2 in /usr/local/lib/python3.11/dist-packages (from torch->pgmpy) (3.1.6)\n",
            "Requirement already satisfied: fsspec in /usr/local/lib/python3.11/dist-packages (from torch->pgmpy) (2025.3.2)\n",
            "Requirement already satisfied: nvidia-cuda-nvrtc-cu12==12.4.127 in /usr/local/lib/python3.11/dist-packages (from torch->pgmpy) (12.4.127)\n",
            "Requirement already satisfied: nvidia-cuda-runtime-cu12==12.4.127 in /usr/local/lib/python3.11/dist-packages (from torch->pgmpy) (12.4.127)\n",
            "Requirement already satisfied: nvidia-cuda-cupti-cu12==12.4.127 in /usr/local/lib/python3.11/dist-packages (from torch->pgmpy) (12.4.127)\n",
            "Requirement already satisfied: nvidia-cudnn-cu12==9.1.0.70 in /usr/local/lib/python3.11/dist-packages (from torch->pgmpy) (9.1.0.70)\n",
            "Requirement already satisfied: nvidia-cublas-cu12==12.4.5.8 in /usr/local/lib/python3.11/dist-packages (from torch->pgmpy) (12.4.5.8)\n",
            "Requirement already satisfied: nvidia-cufft-cu12==11.2.1.3 in /usr/local/lib/python3.11/dist-packages (from torch->pgmpy) (11.2.1.3)\n",
            "Requirement already satisfied: nvidia-curand-cu12==10.3.5.147 in /usr/local/lib/python3.11/dist-packages (from torch->pgmpy) (10.3.5.147)\n",
            "Requirement already satisfied: nvidia-cusolver-cu12==11.6.1.9 in /usr/local/lib/python3.11/dist-packages (from torch->pgmpy) (11.6.1.9)\n",
            "Requirement already satisfied: nvidia-cusparse-cu12==12.3.1.170 in /usr/local/lib/python3.11/dist-packages (from torch->pgmpy) (12.3.1.170)\n",
            "Requirement already satisfied: nvidia-cusparselt-cu12==0.6.2 in /usr/local/lib/python3.11/dist-packages (from torch->pgmpy) (0.6.2)\n",
            "Requirement already satisfied: nvidia-nccl-cu12==2.21.5 in /usr/local/lib/python3.11/dist-packages (from torch->pgmpy) (2.21.5)\n",
            "Requirement already satisfied: nvidia-nvtx-cu12==12.4.127 in /usr/local/lib/python3.11/dist-packages (from torch->pgmpy) (12.4.127)\n",
            "Requirement already satisfied: nvidia-nvjitlink-cu12==12.4.127 in /usr/local/lib/python3.11/dist-packages (from torch->pgmpy) (12.4.127)\n",
            "Requirement already satisfied: triton==3.2.0 in /usr/local/lib/python3.11/dist-packages (from torch->pgmpy) (3.2.0)\n",
            "Requirement already satisfied: sympy==1.13.1 in /usr/local/lib/python3.11/dist-packages (from torch->pgmpy) (1.13.1)\n",
            "Requirement already satisfied: mpmath<1.4,>=1.1.0 in /usr/local/lib/python3.11/dist-packages (from sympy==1.13.1->torch->pgmpy) (1.3.0)\n",
            "Requirement already satisfied: threadpoolctl>=3.1.0 in /usr/local/lib/python3.11/dist-packages (from scikit-learn->pgmpy) (3.6.0)\n",
            "Requirement already satisfied: patsy>=0.5.6 in /usr/local/lib/python3.11/dist-packages (from statsmodels->pgmpy) (1.0.1)\n",
            "Requirement already satisfied: packaging>=21.3 in /usr/local/lib/python3.11/dist-packages (from statsmodels->pgmpy) (24.2)\n",
            "Requirement already satisfied: six>=1.5 in /usr/local/lib/python3.11/dist-packages (from python-dateutil>=2.8.2->pandas->pgmpy) (1.17.0)\n",
            "Requirement already satisfied: MarkupSafe>=2.0 in /usr/local/lib/python3.11/dist-packages (from jinja2->torch->pgmpy) (3.0.2)\n"
          ]
        }
      ],
      "source": [
        "# Make sure to install pgmpy first via:\n",
        "!pip install pgmpy"
      ]
    },
    {
      "cell_type": "code",
      "source": [
        "try:\n",
        "    from pgmpy.models import BayesianModel\n",
        "except ImportError:\n",
        "    from pgmpy.models import BayesianNetwork as BayesianModel"
      ],
      "metadata": {
        "id": "M3aPh5Yp7Khx"
      },
      "execution_count": 4,
      "outputs": []
    },
    {
      "cell_type": "code",
      "source": [
        "from pgmpy.factors.discrete import TabularCPD\n",
        "import networkx as nx\n",
        "import matplotlib.pyplot as plt\n",
        "\n",
        "# Define the Bayesian network structure.\n",
        "# Nodes: OC, FT, CT, FP, IP, CRP.\n",
        "# Arcs:\n",
        "#    CT -> FT, CT -> FP, FT -> FP, FT -> IP, OC -> IP, OC -> CRP.\n",
        "# Instead of BayesianModel or BayesianNetwork, use DiscreteBayesianNetwork\n",
        "from pgmpy.models import DiscreteBayesianNetwork\n",
        "Network = DiscreteBayesianNetwork([\n",
        "    ('CT', 'FT'),\n",
        "    ('CT', 'FP'),\n",
        "    ('FT', 'FP'),\n",
        "    ('FT', 'IP'),\n",
        "    ('OC', 'IP'),\n",
        "    ('OC', 'CRP')\n",
        "])\n",
        "\n",
        "# Update model creation to use DiscreteBayesianNetwork as well\n",
        "model = DiscreteBayesianNetwork([\n",
        "    ('CT', 'FT'),\n",
        "    ('CT', 'FP'),\n",
        "    ('FT', 'FP'),\n",
        "    ('FT', 'IP'),\n",
        "    ('OC', 'IP'),\n",
        "    ('OC', 'CRP')\n",
        "])"
      ],
      "metadata": {
        "id": "fZcEy4FB8LXd"
      },
      "execution_count": 9,
      "outputs": []
    },
    {
      "cell_type": "code",
      "source": [
        "# Define CPDs.\n",
        "# CPD for OC (Card holder owns a computer, tablet or smart phone)\n",
        "# P(OC=True)=0.8, P(OC=False)=0.2.\n",
        "cpd_oc = TabularCPD(variable='OC', variable_card=2,\n",
        "                    values=[[0.8], [0.2]])\n",
        "\n",
        "\n"
      ],
      "metadata": {
        "id": "y8PKTa856LSI"
      },
      "execution_count": 10,
      "outputs": []
    },
    {
      "cell_type": "code",
      "source": [
        "# CPD for CT (Card holder is currently traveling)\n",
        "# P(CT=True)=0.05, P(CT=False)=0.95.\n",
        "cpd_ct = TabularCPD(variable='CT', variable_card=2,\n",
        "                    values=[[0.05], [0.95]])\n",
        "\n"
      ],
      "metadata": {
        "id": "gw5RX8r96FCX"
      },
      "execution_count": 11,
      "outputs": []
    },
    {
      "cell_type": "code",
      "source": [
        "# CPD for FT (Transaction is fraudulent), which depends on CT.\n",
        "# When CT is True: P(FT=True)=0.01, P(FT=False)=0.99;\n",
        "# When CT is False: P(FT=True)=0.004, P(FT=False)=0.996.\n",
        "cpd_ft = TabularCPD(variable='FT', variable_card=2,\n",
        "                    values=[[0.01, 0.004],\n",
        "                            [0.99, 0.996]],\n",
        "                    evidence=['CT'], evidence_card=[2])\n"
      ],
      "metadata": {
        "id": "Utk_cVhh6DDi"
      },
      "execution_count": 12,
      "outputs": []
    },
    {
      "cell_type": "code",
      "source": [
        "# CPD for FP (Foreign purchase), which depends on CT and FT.\n",
        "# Order of parent states: (CT, FT):\n",
        "# - (True, True): FP=True=0.9, FP=False=0.1\n",
        "# - (True, False): FP=True=0.9, FP=False=0.1\n",
        "# - (False, True): FP=True=0.1, FP=False=0.9\n",
        "# - (False, False): FP=True=0.01, FP=False=0.99\n",
        "cpd_fp = TabularCPD(variable='FP', variable_card=2,\n",
        "                    values=[[0.9, 0.9, 0.1, 0.01],\n",
        "                            [0.1, 0.1, 0.9, 0.99]],\n",
        "                    evidence=['CT', 'FT'], evidence_card=[2, 2])\n"
      ],
      "metadata": {
        "id": "SH-3kdnM5-v2"
      },
      "execution_count": 13,
      "outputs": []
    },
    {
      "cell_type": "code",
      "source": [
        "# CPD for IP (Internet purchase), which depends on OC and FT.\n",
        "# Order of parent states: (OC, FT):\n",
        "# For OC=True:\n",
        "#   If FT=True: P(IP=True)=0.15, P(IP=False)=0.85.\n",
        "#   If FT=False: P(IP=True)=0.10, P(IP=False)=0.90.\n",
        "# For OC=False:\n",
        "#   If FT=True: P(IP=True)=0.051, P(IP=False)=0.949.\n",
        "#   If FT=False: P(IP=True)=0.001, P(IP=False)=0.999.\n",
        "cpd_ip = TabularCPD(variable='IP', variable_card=2,\n",
        "                    values=[[0.15, 0.10, 0.051, 0.001],\n",
        "                            [0.85, 0.90, 0.949, 0.999]],\n",
        "                    evidence=['OC', 'FT'], evidence_card=[2, 2])\n"
      ],
      "metadata": {
        "id": "gPiUIfop56lC"
      },
      "execution_count": 14,
      "outputs": []
    },
    {
      "cell_type": "code",
      "source": [
        "# CPD for CRP (Computer-related purchase in past week), which depends on OC.\n",
        "# For OC=True: P(CRP=True)=0.10, P(CRP=False)=0.90.\n",
        "# For OC=False: P(CRP=True)=0.01, P(CRP=False)=0.99.\n",
        "cpd_crp = TabularCPD(variable='CRP', variable_card=2,\n",
        "                     values=[[0.10, 0.01],\n",
        "                             [0.90, 0.99]],\n",
        "                     evidence=['OC'], evidence_card=[2])\n",
        "\n"
      ],
      "metadata": {
        "id": "nILVMvfI54Aa"
      },
      "execution_count": 15,
      "outputs": []
    },
    {
      "cell_type": "code",
      "source": [
        "# Add CPDs to the model.\n",
        "model.add_cpds(cpd_oc, cpd_ct, cpd_ft, cpd_fp, cpd_ip, cpd_crp)\n",
        "\n",
        "\n"
      ],
      "metadata": {
        "id": "kP4QFgE451Ga"
      },
      "execution_count": 16,
      "outputs": []
    },
    {
      "cell_type": "code",
      "source": [
        "# Verify the model structure and CPDs.\n",
        "if model.check_model():\n",
        "    print(\"The Bayesian network model is valid.\")\n",
        "else:\n",
        "    print(\"There is an issue with the model.\")\n",
        "\n"
      ],
      "metadata": {
        "colab": {
          "base_uri": "https://localhost:8080/"
        },
        "id": "_fOYxYSD5xUp",
        "outputId": "c7d57a83-044f-464c-876b-fb65f1786ef6"
      },
      "execution_count": 17,
      "outputs": [
        {
          "output_type": "stream",
          "name": "stdout",
          "text": [
            "The Bayesian network model is valid.\n"
          ]
        }
      ]
    },
    {
      "cell_type": "code",
      "source": [
        "# Display the structure (edges) of the network.\n",
        "print(\"\\nNetwork structure (edges):\")\n",
        "print(model.edges())\n"
      ],
      "metadata": {
        "colab": {
          "base_uri": "https://localhost:8080/"
        },
        "id": "-pmTVfKF5uLv",
        "outputId": "9e4ec6b8-f9fb-418c-9b01-1d5b8539e1de"
      },
      "execution_count": 18,
      "outputs": [
        {
          "output_type": "stream",
          "name": "stdout",
          "text": [
            "\n",
            "Network structure (edges):\n",
            "[('CT', 'FT'), ('CT', 'FP'), ('FT', 'FP'), ('FT', 'IP'), ('OC', 'IP'), ('OC', 'CRP')]\n"
          ]
        }
      ]
    },
    {
      "cell_type": "code",
      "source": [
        "# Optionally, visualize the network graph.\n",
        "nx_graph = nx.DiGraph(model.edges())\n",
        "pos = nx.spring_layout(nx_graph)\n",
        "nx.draw(nx_graph, pos, with_labels=True, node_color='lightblue', node_size=2000, font_size=10)\n",
        "plt.title(\"Bayesian Network for Fraud Detection\")\n",
        "plt.show()\n",
        "\n"
      ],
      "metadata": {
        "colab": {
          "base_uri": "https://localhost:8080/",
          "height": 539
        },
        "id": "ohIZORA75rH6",
        "outputId": "7acaf45f-d275-42f6-abe4-9f6a4c1c16c9"
      },
      "execution_count": 20,
      "outputs": [
        {
          "output_type": "display_data",
          "data": {
            "text/plain": [
              "<Figure size 640x480 with 1 Axes>"
            ],
            "image/png": "[encoded data removed]"
          },
          "metadata": {}
        }
      ]
    },
    {
      "cell_type": "code",
      "source": [
        "# Print the CPDs for inspection.\n",
        "print(\"\\nConditional Probability Tables (CPDs):\\n\")\n",
        "print(\"CPD for OC:\")\n",
        "print(cpd_oc, \"\\n\")\n",
        "print(\"CPD for CT:\")\n",
        "print(cpd_ct, \"\\n\")\n",
        "print(\"CPD for FT:\")\n",
        "print(cpd_ft, \"\\n\")\n",
        "print(\"CPD for FP:\")\n",
        "print(cpd_fp, \"\\n\")\n",
        "print(\"CPD for IP:\")\n",
        "print(cpd_ip, \"\\n\")\n",
        "print(\"CPD for CRP:\")\n",
        "print(cpd_crp, \"\\n\")"
      ],
      "metadata": {
        "colab": {
          "base_uri": "https://localhost:8080/"
        },
        "id": "A7egqa6w5ovm",
        "outputId": "ec152cef-9729-465b-86b6-006c837c0c73"
      },
      "execution_count": 21,
      "outputs": [
        {
          "output_type": "stream",
          "name": "stdout",
          "text": [
            "\n",
            "Conditional Probability Tables (CPDs):\n",
            "\n",
            "CPD for OC:\n",
            "+-------+-----+\n",
            "| OC(0) | 0.8 |\n",
            "+-------+-----+\n",
            "| OC(1) | 0.2 |\n",
            "+-------+-----+ \n",
            "\n",
            "CPD for CT:\n",
            "+-------+------+\n",
            "| CT(0) | 0.05 |\n",
            "+-------+------+\n",
            "| CT(1) | 0.95 |\n",
            "+-------+------+ \n",
            "\n",
            "CPD for FT:\n",
            "+-------+-------+-------+\n",
            "| CT    | CT(0) | CT(1) |\n",
            "+-------+-------+-------+\n",
            "| FT(0) | 0.01  | 0.004 |\n",
            "+-------+-------+-------+\n",
            "| FT(1) | 0.99  | 0.996 |\n",
            "+-------+-------+-------+ \n",
            "\n",
            "CPD for FP:\n",
            "+-------+-------+-------+-------+-------+\n",
            "| CT    | CT(0) | CT(0) | CT(1) | CT(1) |\n",
            "+-------+-------+-------+-------+-------+\n",
            "| FT    | FT(0) | FT(1) | FT(0) | FT(1) |\n",
            "+-------+-------+-------+-------+-------+\n",
            "| FP(0) | 0.9   | 0.9   | 0.1   | 0.01  |\n",
            "+-------+-------+-------+-------+-------+\n",
            "| FP(1) | 0.1   | 0.1   | 0.9   | 0.99  |\n",
            "+-------+-------+-------+-------+-------+ \n",
            "\n",
            "CPD for IP:\n",
            "+-------+-------+-------+-------+-------+\n",
            "| OC    | OC(0) | OC(0) | OC(1) | OC(1) |\n",
            "+-------+-------+-------+-------+-------+\n",
            "| FT    | FT(0) | FT(1) | FT(0) | FT(1) |\n",
            "+-------+-------+-------+-------+-------+\n",
            "| IP(0) | 0.15  | 0.1   | 0.051 | 0.001 |\n",
            "+-------+-------+-------+-------+-------+\n",
            "| IP(1) | 0.85  | 0.9   | 0.949 | 0.999 |\n",
            "+-------+-------+-------+-------+-------+ \n",
            "\n",
            "CPD for CRP:\n",
            "+--------+-------+-------+\n",
            "| OC     | OC(0) | OC(1) |\n",
            "+--------+-------+-------+\n",
            "| CRP(0) | 0.1   | 0.01  |\n",
            "+--------+-------+-------+\n",
            "| CRP(1) | 0.9   | 0.99  |\n",
            "+--------+-------+-------+ \n",
            "\n"
          ]
        }
      ]
    }
  ]
}